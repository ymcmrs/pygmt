{
  "cells": [
    {
      "cell_type": "code",
      "execution_count": null,
      "metadata": {
        "collapsed": false
      },
      "outputs": [],
      "source": [
        "%matplotlib inline"
      ]
    },
    {
      "cell_type": "markdown",
      "metadata": {},
      "source": [
        "\nFrames, ticks, titles, and labels\n=================================\n\nSetting the style of the map frames, ticks, etc, is handled by the ``frame`` argument\nthat all plotting methods of :class:`pygmt.Figure`.\n\n"
      ]
    },
    {
      "cell_type": "code",
      "execution_count": null,
      "metadata": {
        "collapsed": false
      },
      "outputs": [],
      "source": [
        "import pygmt"
      ]
    },
    {
      "cell_type": "markdown",
      "metadata": {},
      "source": [
        "Plot frame\n----------\n\nBy default, PyGMT does not add a frame to your plot. For example, we can plot the\ncoastlines of the world with a Mercator projection:\n\n"
      ]
    },
    {
      "cell_type": "code",
      "execution_count": null,
      "metadata": {
        "collapsed": false
      },
      "outputs": [],
      "source": [
        "fig = pygmt.Figure()\nfig.coast(shorelines=\"1/0.5p\", region=[-180, 180, -60, 60], projection=\"M10i\")\nfig.show()"
      ]
    },
    {
      "cell_type": "markdown",
      "metadata": {},
      "source": [
        "To add the default GMT frame to the plot, use ``frame=\"f\"`` in\n:meth:`pygmt.Figure.basemap` or any other plotting module:\n\n"
      ]
    },
    {
      "cell_type": "code",
      "execution_count": null,
      "metadata": {
        "collapsed": false
      },
      "outputs": [],
      "source": [
        "fig = pygmt.Figure()\nfig.coast(shorelines=\"1/0.5p\", region=[-180, 180, -60, 60], projection=\"M10i\")\nfig.basemap(frame=\"f\")\nfig.show()"
      ]
    },
    {
      "cell_type": "markdown",
      "metadata": {},
      "source": [
        "Ticks and grid lines\n--------------------\n\nThe automatic frame (``frame=True`` or ``frame=\"a\"``) sets the default GMT style frame\nand automatically determines tick labels from the plot region.\n\n"
      ]
    },
    {
      "cell_type": "code",
      "execution_count": null,
      "metadata": {
        "collapsed": false
      },
      "outputs": [],
      "source": [
        "fig = pygmt.Figure()\nfig.coast(shorelines=\"1/0.5p\", region=[-180, 180, -60, 60], projection=\"M10i\")\nfig.basemap(frame=\"a\")\nfig.show()"
      ]
    },
    {
      "cell_type": "markdown",
      "metadata": {},
      "source": [
        "Add automatic grid lines to the plot by adding a ``g`` to ``frame``:\n\n"
      ]
    },
    {
      "cell_type": "code",
      "execution_count": null,
      "metadata": {
        "collapsed": false
      },
      "outputs": [],
      "source": [
        "fig = pygmt.Figure()\nfig.coast(shorelines=\"1/0.5p\", region=[-180, 180, -60, 60], projection=\"M10i\")\nfig.basemap(frame=\"ag\")\nfig.show()"
      ]
    }
  ],
  "metadata": {
    "kernelspec": {
      "display_name": "Python 3",
      "language": "python",
      "name": "python3"
    },
    "language_info": {
      "codemirror_mode": {
        "name": "ipython",
        "version": 3
      },
      "file_extension": ".py",
      "mimetype": "text/x-python",
      "name": "python",
      "nbconvert_exporter": "python",
      "pygments_lexer": "ipython3",
      "version": "3.6.7"
    }
  },
  "nbformat": 4,
  "nbformat_minor": 0
}