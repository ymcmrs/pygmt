{
  "cells": [
    {
      "cell_type": "code",
      "execution_count": null,
      "metadata": {
        "collapsed": false
      },
      "outputs": [],
      "source": [
        "%matplotlib inline"
      ]
    },
    {
      "cell_type": "markdown",
      "metadata": {},
      "source": [
        "\nColorbar\n--------\n\nThe :meth:`pygmt.Figure.colorbar` method creates a color scalebar. We must specify the\ncolormap via the ``cmap`` argument, and set the placement via the ``position`` argument.\nThe full list of color paletted tables can be found at :gmt-docs:`cookbook/cpts.html`.\nYou can set the `position` of the colorbar using the following options:\n\n- j/J: justified inside/outside the mapframe using any 2 character combination of\n  vertical (**T** op, **M** iddle, **B** ottom) and horizontal (**L** eft, **C** enter,\n  **R** ight) alignment codes, e.g. `position=\"jTR\"` for top right.\n- g: using map coordinates, e.g. `position=\"g170/-45\"` for longitude 170E, latitude 45S.\n- x: using paper coordinates, e.g. `position=\"x5c/7c\"` for 5cm,7cm from anchor point.\n- n: using normalized (0-1) coordinates, e.g. `position=\"n0.4/0.8\"`.\n\nNote that the anchor point defaults to the bottom left (BL). Append +h to ``position``\nto get a horizontal colorbar instead of a vertical one. For more advanced styling\noptions, see the full option list at :gmt-docs:`colorbar.html`.\n\n"
      ]
    },
    {
      "cell_type": "code",
      "execution_count": null,
      "metadata": {
        "collapsed": false
      },
      "outputs": [],
      "source": [
        "import pygmt\n\nfig = pygmt.Figure()\nfig.basemap(region=[0, 3, 6, 9], projection=\"t0/3c\", frame=True)\n\n# Create a colorbar suitable for surface topography- oleron\n\nfig.colorbar(\n    cmap=\"oleron\",\n    position=\"jTC+w6c/1c+h\",  # justified inside map frame (j) at Top Center (TC)\n    box=True,\n    frame=[\"+Loleron\", \"xaf\", \"y+lm\"],\n    scale=10,\n)\n# Create a colorbar designed for seismic tomography- roma\nfig.colorbar(\n    cmap=\"roma\",\n    position=\"x1.2c/4.75c+w6c/1c+h\",  # plot using paper coordinates (x) at 1.2cm,4.75cm\n    box=True,\n    frame=[\"+Lroma\", \"xaf\", \"y+lm/s\"],\n    scale=10,\n)\n# Create a colorbar showing the scientific rainbow - batlow\nfig.colorbar(\n    cmap=\"batlow\",\n    position=\"g0.45/6.6+w6c/1c+h\",  # plot using map coordinates (g) at lon/lat 0.45/6.6\n    box=True,\n    frame=[\"+Lbatlow\", \"xaf\", r\"y+l\\260C\"],\n    scale=10,\n)\n\nfig.show()"
      ]
    }
  ],
  "metadata": {
    "kernelspec": {
      "display_name": "Python 3",
      "language": "python",
      "name": "python3"
    },
    "language_info": {
      "codemirror_mode": {
        "name": "ipython",
        "version": 3
      },
      "file_extension": ".py",
      "mimetype": "text/x-python",
      "name": "python",
      "nbconvert_exporter": "python",
      "pygments_lexer": "ipython3",
      "version": "3.6.7"
    }
  },
  "nbformat": 4,
  "nbformat_minor": 0
}